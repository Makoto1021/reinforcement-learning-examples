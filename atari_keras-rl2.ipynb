{
 "cells": [
  {
   "cell_type": "code",
   "execution_count": 1,
   "metadata": {},
   "outputs": [
    {
     "ename": "ImportError",
     "evalue": "cannot import name '__version__' from 'tensorflow.keras' (/Users/makotomiyazaki/.pyenv/versions/3.11.5/envs/rl/lib/python3.11/site-packages/keras/api/_v2/keras/__init__.py)",
     "output_type": "error",
     "traceback": [
      "\u001b[0;31m---------------------------------------------------------------------------\u001b[0m",
      "\u001b[0;31mImportError\u001b[0m                               Traceback (most recent call last)",
      "\u001b[1;32m/Users/makotomiyazaki/Documents/Self learning/Reinforcement learning/atari.ipynb Cell 1\u001b[0m line \u001b[0;36m1\n\u001b[1;32m      <a href='vscode-notebook-cell:/Users/makotomiyazaki/Documents/Self%20learning/Reinforcement%20learning/atari.ipynb#W0sZmlsZQ%3D%3D?line=8'>9</a>\u001b[0m \u001b[39mfrom\u001b[39;00m \u001b[39mtensorflow\u001b[39;00m\u001b[39m.\u001b[39;00m\u001b[39mkeras\u001b[39;00m\u001b[39m.\u001b[39;00m\u001b[39moptimizers\u001b[39;00m \u001b[39mimport\u001b[39;00m Adam\n\u001b[1;32m     <a href='vscode-notebook-cell:/Users/makotomiyazaki/Documents/Self%20learning/Reinforcement%20learning/atari.ipynb#W0sZmlsZQ%3D%3D?line=9'>10</a>\u001b[0m \u001b[39m# from tensorflow.keras.optimizers.legacy import Adam\u001b[39;00m\n\u001b[1;32m     <a href='vscode-notebook-cell:/Users/makotomiyazaki/Documents/Self%20learning/Reinforcement%20learning/atari.ipynb#W0sZmlsZQ%3D%3D?line=10'>11</a>\u001b[0m \u001b[39m# from keras import __version__\u001b[39;00m\n\u001b[1;32m     <a href='vscode-notebook-cell:/Users/makotomiyazaki/Documents/Self%20learning/Reinforcement%20learning/atari.ipynb#W0sZmlsZQ%3D%3D?line=11'>12</a>\u001b[0m \u001b[39m# tf.keras.__version__ = __version__\u001b[39;00m\n\u001b[0;32m---> <a href='vscode-notebook-cell:/Users/makotomiyazaki/Documents/Self%20learning/Reinforcement%20learning/atari.ipynb#W0sZmlsZQ%3D%3D?line=12'>13</a>\u001b[0m \u001b[39mfrom\u001b[39;00m \u001b[39mrl\u001b[39;00m\u001b[39m.\u001b[39;00m\u001b[39magents\u001b[39;00m \u001b[39mimport\u001b[39;00m DQNAgent\n\u001b[1;32m     <a href='vscode-notebook-cell:/Users/makotomiyazaki/Documents/Self%20learning/Reinforcement%20learning/atari.ipynb#W0sZmlsZQ%3D%3D?line=13'>14</a>\u001b[0m \u001b[39mfrom\u001b[39;00m \u001b[39mrl\u001b[39;00m\u001b[39m.\u001b[39;00m\u001b[39mmemory\u001b[39;00m \u001b[39mimport\u001b[39;00m SequentialMemory\n\u001b[1;32m     <a href='vscode-notebook-cell:/Users/makotomiyazaki/Documents/Self%20learning/Reinforcement%20learning/atari.ipynb#W0sZmlsZQ%3D%3D?line=14'>15</a>\u001b[0m \u001b[39mfrom\u001b[39;00m \u001b[39mrl\u001b[39;00m\u001b[39m.\u001b[39;00m\u001b[39mpolicy\u001b[39;00m \u001b[39mimport\u001b[39;00m LinearAnnealedPolicy, EpsGreedyQPolicy\n",
      "File \u001b[0;32m~/.pyenv/versions/3.11.5/envs/rl/lib/python3.11/site-packages/rl/agents/__init__.py:1\u001b[0m\n\u001b[0;32m----> 1\u001b[0m \u001b[39mfrom\u001b[39;00m \u001b[39m.\u001b[39;00m\u001b[39mdqn\u001b[39;00m \u001b[39mimport\u001b[39;00m DQNAgent, NAFAgent, ContinuousDQNAgent\n\u001b[1;32m      2\u001b[0m \u001b[39mfrom\u001b[39;00m \u001b[39m.\u001b[39;00m\u001b[39mddpg\u001b[39;00m \u001b[39mimport\u001b[39;00m DDPGAgent\n\u001b[1;32m      3\u001b[0m \u001b[39mfrom\u001b[39;00m \u001b[39m.\u001b[39;00m\u001b[39mcem\u001b[39;00m \u001b[39mimport\u001b[39;00m CEMAgent\n",
      "File \u001b[0;32m~/.pyenv/versions/3.11.5/envs/rl/lib/python3.11/site-packages/rl/agents/dqn.py:7\u001b[0m\n\u001b[1;32m      4\u001b[0m \u001b[39mfrom\u001b[39;00m \u001b[39mtensorflow\u001b[39;00m\u001b[39m.\u001b[39;00m\u001b[39mkeras\u001b[39;00m\u001b[39m.\u001b[39;00m\u001b[39mmodels\u001b[39;00m \u001b[39mimport\u001b[39;00m Model\n\u001b[1;32m      5\u001b[0m \u001b[39mfrom\u001b[39;00m \u001b[39mtensorflow\u001b[39;00m\u001b[39m.\u001b[39;00m\u001b[39mkeras\u001b[39;00m\u001b[39m.\u001b[39;00m\u001b[39mlayers\u001b[39;00m \u001b[39mimport\u001b[39;00m Lambda, Input, Layer, Dense\n\u001b[0;32m----> 7\u001b[0m \u001b[39mfrom\u001b[39;00m \u001b[39mrl\u001b[39;00m\u001b[39m.\u001b[39;00m\u001b[39mcore\u001b[39;00m \u001b[39mimport\u001b[39;00m Agent\n\u001b[1;32m      8\u001b[0m \u001b[39mfrom\u001b[39;00m \u001b[39mrl\u001b[39;00m\u001b[39m.\u001b[39;00m\u001b[39mpolicy\u001b[39;00m \u001b[39mimport\u001b[39;00m EpsGreedyQPolicy, GreedyQPolicy\n\u001b[1;32m      9\u001b[0m \u001b[39mfrom\u001b[39;00m \u001b[39mrl\u001b[39;00m\u001b[39m.\u001b[39;00m\u001b[39mutil\u001b[39;00m \u001b[39mimport\u001b[39;00m \u001b[39m*\u001b[39m\n",
      "File \u001b[0;32m~/.pyenv/versions/3.11.5/envs/rl/lib/python3.11/site-packages/rl/core.py:7\u001b[0m\n\u001b[1;32m      4\u001b[0m \u001b[39mimport\u001b[39;00m \u001b[39mnumpy\u001b[39;00m \u001b[39mas\u001b[39;00m \u001b[39mnp\u001b[39;00m\n\u001b[1;32m      5\u001b[0m \u001b[39mfrom\u001b[39;00m \u001b[39mtensorflow\u001b[39;00m\u001b[39m.\u001b[39;00m\u001b[39mkeras\u001b[39;00m\u001b[39m.\u001b[39;00m\u001b[39mcallbacks\u001b[39;00m \u001b[39mimport\u001b[39;00m History\n\u001b[0;32m----> 7\u001b[0m \u001b[39mfrom\u001b[39;00m \u001b[39mrl\u001b[39;00m\u001b[39m.\u001b[39;00m\u001b[39mcallbacks\u001b[39;00m \u001b[39mimport\u001b[39;00m (\n\u001b[1;32m      8\u001b[0m     CallbackList,\n\u001b[1;32m      9\u001b[0m     TestLogger,\n\u001b[1;32m     10\u001b[0m     TrainEpisodeLogger,\n\u001b[1;32m     11\u001b[0m     TrainIntervalLogger,\n\u001b[1;32m     12\u001b[0m     Visualizer\n\u001b[1;32m     13\u001b[0m )\n\u001b[1;32m     16\u001b[0m \u001b[39mclass\u001b[39;00m \u001b[39mAgent\u001b[39;00m:\n\u001b[1;32m     17\u001b[0m \u001b[39m    \u001b[39m\u001b[39m\"\"\"Abstract base class for all implemented agents.\u001b[39;00m\n\u001b[1;32m     18\u001b[0m \n\u001b[1;32m     19\u001b[0m \u001b[39m    Each agent interacts with the environment (as defined by the `Env` class) by first observing the\u001b[39;00m\n\u001b[0;32m   (...)\u001b[0m\n\u001b[1;32m     37\u001b[0m \u001b[39m        processor (`Processor` instance): See [Processor](#processor) for details.\u001b[39;00m\n\u001b[1;32m     38\u001b[0m \u001b[39m    \"\"\"\u001b[39;00m\n",
      "File \u001b[0;32m~/.pyenv/versions/3.11.5/envs/rl/lib/python3.11/site-packages/rl/callbacks.py:8\u001b[0m\n\u001b[1;32m      6\u001b[0m \u001b[39mimport\u001b[39;00m \u001b[39mnumpy\u001b[39;00m \u001b[39mas\u001b[39;00m \u001b[39mnp\u001b[39;00m\n\u001b[1;32m      7\u001b[0m \u001b[39mimport\u001b[39;00m \u001b[39mtensorflow\u001b[39;00m \u001b[39mas\u001b[39;00m \u001b[39mtf\u001b[39;00m\n\u001b[0;32m----> 8\u001b[0m \u001b[39mfrom\u001b[39;00m \u001b[39mtensorflow\u001b[39;00m\u001b[39m.\u001b[39;00m\u001b[39mkeras\u001b[39;00m \u001b[39mimport\u001b[39;00m __version__ \u001b[39mas\u001b[39;00m KERAS_VERSION\n\u001b[1;32m      9\u001b[0m \u001b[39mfrom\u001b[39;00m \u001b[39mtensorflow\u001b[39;00m\u001b[39m.\u001b[39;00m\u001b[39mpython\u001b[39;00m\u001b[39m.\u001b[39;00m\u001b[39mkeras\u001b[39;00m\u001b[39m.\u001b[39;00m\u001b[39mcallbacks\u001b[39;00m \u001b[39mimport\u001b[39;00m Callback \u001b[39mas\u001b[39;00m KerasCallback, CallbackList \u001b[39mas\u001b[39;00m KerasCallbackList\n\u001b[1;32m     10\u001b[0m \u001b[39mfrom\u001b[39;00m \u001b[39mtensorflow\u001b[39;00m\u001b[39m.\u001b[39;00m\u001b[39mpython\u001b[39;00m\u001b[39m.\u001b[39;00m\u001b[39mkeras\u001b[39;00m\u001b[39m.\u001b[39;00m\u001b[39mutils\u001b[39;00m\u001b[39m.\u001b[39;00m\u001b[39mgeneric_utils\u001b[39;00m \u001b[39mimport\u001b[39;00m Progbar\n",
      "\u001b[0;31mImportError\u001b[0m: cannot import name '__version__' from 'tensorflow.keras' (/Users/makotomiyazaki/.pyenv/versions/3.11.5/envs/rl/lib/python3.11/site-packages/keras/api/_v2/keras/__init__.py)"
     ]
    }
   ],
   "source": [
    "import gymnasium as gym\n",
    "import numpy as np \n",
    "import matplotlib.pyplot as plt\n",
    "import random\n",
    "import pandas as pd\n",
    "# import tensorflow as tf\n",
    "from tensorflow.keras.models import Sequential\n",
    "from tensorflow.keras.layers import Dense, Activation, Flatten, Convolution2D, Permute\n",
    "from tensorflow.keras.optimizers import Adam\n",
    "# from tensorflow.keras.optimizers.legacy import Adam\n",
    "# from keras import __version__\n",
    "# tf.keras.__version__ = __version__\n",
    "from rl.agents import DQNAgent\n",
    "from rl.memory import SequentialMemory\n",
    "from rl.policy import LinearAnnealedPolicy, EpsGreedyQPolicy\n",
    "import time\n",
    "import seaborn as sns\n",
    "from utils import argmax\n",
    "from tqdm import tqdm\n",
    "from scipy.interpolate import make_interp_spline"
   ]
  },
  {
   "cell_type": "code",
   "execution_count": null,
   "metadata": {},
   "outputs": [
    {
     "name": "stderr",
     "output_type": "stream",
     "text": [
      "A.L.E: Arcade Learning Environment (version 0.8.1+53f58b7)\n",
      "[Powered by Stella]\n"
     ]
    }
   ],
   "source": [
    "# 1. Load Environment and Q-table structure\n",
    "env = gym.make('ALE/SpaceInvaders-v5')\n",
    "height, width, channels = env.observation_space.shape\n",
    "actions = env.action_space.n"
   ]
  },
  {
   "cell_type": "code",
   "execution_count": 3,
   "metadata": {},
   "outputs": [
    {
     "name": "stdout",
     "output_type": "stream",
     "text": [
      "210 160 3 6\n"
     ]
    }
   ],
   "source": [
    "print(height, width, channels, actions)"
   ]
  },
  {
   "cell_type": "code",
   "execution_count": 4,
   "metadata": {},
   "outputs": [
    {
     "data": {
      "text/plain": [
       "['NOOP', 'FIRE', 'RIGHT', 'LEFT', 'RIGHTFIRE', 'LEFTFIRE']"
      ]
     },
     "execution_count": 4,
     "metadata": {},
     "output_type": "execute_result"
    }
   ],
   "source": [
    "env.unwrapped.get_action_meanings()"
   ]
  },
  {
   "cell_type": "code",
   "execution_count": 5,
   "metadata": {},
   "outputs": [],
   "source": [
    "def build_model(height, width, channels, actions):\n",
    "    model = Sequential()\n",
    "    model.add(Convolution2D(32, (8,8), strides = (4,4), activation = 'relu', input_shape = (3, height, width, channels))) # output = 51 * 39\n",
    "    model.add(Convolution2D(64, (4,4), strides = (2,2), activation = 'relu')) # output = 24 * 18\n",
    "    model.add(Convolution2D(64, (3,3), activation = 'relu')) # output = 22 * 16\n",
    "    model.add(Flatten()) # output = 22 * 16 * 64 = 22528\n",
    "    model.add(Dense(512, activation = 'relu'))\n",
    "    model.add(Dense(216, activation = 'relu'))\n",
    "    model.add(Dense(actions, activation = 'linear'))\n",
    "    return model"
   ]
  },
  {
   "cell_type": "code",
   "execution_count": 6,
   "metadata": {},
   "outputs": [],
   "source": [
    "model = build_model(height, width, channels, actions)"
   ]
  },
  {
   "cell_type": "code",
   "execution_count": 7,
   "metadata": {},
   "outputs": [
    {
     "name": "stdout",
     "output_type": "stream",
     "text": [
      "Model: \"sequential\"\n",
      "_________________________________________________________________\n",
      " Layer (type)                Output Shape              Param #   \n",
      "=================================================================\n",
      " conv2d (Conv2D)             (None, 3, 51, 39, 32)     6176      \n",
      "                                                                 \n",
      " conv2d_1 (Conv2D)           (None, 3, 24, 18, 64)     32832     \n",
      "                                                                 \n",
      " conv2d_2 (Conv2D)           (None, 3, 22, 16, 64)     36928     \n",
      "                                                                 \n",
      " flatten (Flatten)           (None, 67584)             0         \n",
      "                                                                 \n",
      " dense (Dense)               (None, 512)               34603520  \n",
      "                                                                 \n",
      " dense_1 (Dense)             (None, 216)               110808    \n",
      "                                                                 \n",
      " dense_2 (Dense)             (None, 6)                 1302      \n",
      "                                                                 \n",
      "=================================================================\n",
      "Total params: 34791566 (132.72 MB)\n",
      "Trainable params: 34791566 (132.72 MB)\n",
      "Non-trainable params: 0 (0.00 Byte)\n",
      "_________________________________________________________________\n"
     ]
    }
   ],
   "source": [
    "model.summary()"
   ]
  },
  {
   "cell_type": "code",
   "execution_count": 8,
   "metadata": {},
   "outputs": [],
   "source": [
    "def build_agent(model, actions):\n",
    "    # LinearAnnealedPolicy: decrease epsilon linearly from 1 to .1\n",
    "    policy = LinearAnnealedPolicy( \n",
    "        EpsGreedyQPolicy(), \n",
    "        attr='eps', \n",
    "        value_max=1., \n",
    "        value_min=.1, \n",
    "        value_test=.2, \n",
    "        nb_steps=10000\n",
    "        )\n",
    "    \n",
    "    memory = SequentialMemory(\n",
    "        limit=1000000,  # This memory will store up to 1 million of the most recent experiences.\n",
    "        window_length=3 # how many of the most recent observations will be used as the input for the neural network.\n",
    "        )\n",
    "    \n",
    "    dqn = DQNAgent(\n",
    "        model=model, \n",
    "        memory=memory, \n",
    "        policy=policy, \n",
    "        enable_dueling_network=True, \n",
    "        dueling_type='avg', \n",
    "        nb_actions=actions, \n",
    "        nb_steps_warmup=1000,\n",
    "        )\n",
    "    return dqn\n"
   ]
  },
  {
   "cell_type": "code",
   "execution_count": 9,
   "metadata": {},
   "outputs": [
    {
     "name": "stderr",
     "output_type": "stream",
     "text": [
      "WARNING:absl:At this time, the v2.11+ optimizer `tf.keras.optimizers.Adam` runs slowly on M1/M2 Macs, please use the legacy Keras optimizer instead, located at `tf.keras.optimizers.legacy.Adam`.\n"
     ]
    },
    {
     "ename": "ValueError",
     "evalue": "Requested the deserialization of a Lambda layer with a Python `lambda` inside it. This carries a potential risk of arbitrary code execution and thus it is disallowed by default. If you trust the source of the saved model, you can pass `safe_mode=False` to the loading function in order to allow Lambda layer loading.",
     "output_type": "error",
     "traceback": [
      "\u001b[0;31m---------------------------------------------------------------------------\u001b[0m",
      "\u001b[0;31mValueError\u001b[0m                                Traceback (most recent call last)",
      "\u001b[1;32m/Users/makotomiyazaki/Documents/Self learning/Reinforcement learning/atari.ipynb Cell 9\u001b[0m line \u001b[0;36m2\n\u001b[1;32m      <a href='vscode-notebook-cell:/Users/makotomiyazaki/Documents/Self%20learning/Reinforcement%20learning/atari.ipynb#X12sZmlsZQ%3D%3D?line=0'>1</a>\u001b[0m dqn \u001b[39m=\u001b[39m build_agent(model, actions)\n\u001b[0;32m----> <a href='vscode-notebook-cell:/Users/makotomiyazaki/Documents/Self%20learning/Reinforcement%20learning/atari.ipynb#X12sZmlsZQ%3D%3D?line=1'>2</a>\u001b[0m dqn\u001b[39m.\u001b[39;49mcompile(optimizer\u001b[39m=\u001b[39;49mAdam(learning_rate\u001b[39m=\u001b[39;49m\u001b[39m1e-4\u001b[39;49m))\n",
      "File \u001b[0;32m~/.pyenv/versions/3.11.5/envs/rl/lib/python3.11/site-packages/rl/agents/dqn.py:167\u001b[0m, in \u001b[0;36mDQNAgent.compile\u001b[0;34m(self, optimizer, metrics)\u001b[0m\n\u001b[1;32m    164\u001b[0m metrics \u001b[39m+\u001b[39m\u001b[39m=\u001b[39m [mean_q]  \u001b[39m# register default metrics\u001b[39;00m\n\u001b[1;32m    166\u001b[0m \u001b[39m# We never train the target model, hence we can set the optimizer and loss arbitrarily.\u001b[39;00m\n\u001b[0;32m--> 167\u001b[0m \u001b[39mself\u001b[39m\u001b[39m.\u001b[39mtarget_model \u001b[39m=\u001b[39m clone_model(\u001b[39mself\u001b[39;49m\u001b[39m.\u001b[39;49mmodel, \u001b[39mself\u001b[39;49m\u001b[39m.\u001b[39;49mcustom_model_objects)\n\u001b[1;32m    168\u001b[0m \u001b[39mself\u001b[39m\u001b[39m.\u001b[39mtarget_model\u001b[39m.\u001b[39mcompile(optimizer\u001b[39m=\u001b[39m\u001b[39m'\u001b[39m\u001b[39msgd\u001b[39m\u001b[39m'\u001b[39m, loss\u001b[39m=\u001b[39m\u001b[39m'\u001b[39m\u001b[39mmse\u001b[39m\u001b[39m'\u001b[39m)\n\u001b[1;32m    169\u001b[0m \u001b[39mself\u001b[39m\u001b[39m.\u001b[39mmodel\u001b[39m.\u001b[39mcompile(optimizer\u001b[39m=\u001b[39m\u001b[39m'\u001b[39m\u001b[39msgd\u001b[39m\u001b[39m'\u001b[39m, loss\u001b[39m=\u001b[39m\u001b[39m'\u001b[39m\u001b[39mmse\u001b[39m\u001b[39m'\u001b[39m)\n",
      "File \u001b[0;32m~/.pyenv/versions/3.11.5/envs/rl/lib/python3.11/site-packages/rl/util.py:15\u001b[0m, in \u001b[0;36mclone_model\u001b[0;34m(model, custom_objects)\u001b[0m\n\u001b[1;32m      9\u001b[0m \u001b[39mdef\u001b[39;00m \u001b[39mclone_model\u001b[39m(model, custom_objects\u001b[39m=\u001b[39m{}):\n\u001b[1;32m     10\u001b[0m     \u001b[39m# Requires Keras 1.0.7 since get_config has breaking changes.\u001b[39;00m\n\u001b[1;32m     11\u001b[0m     config \u001b[39m=\u001b[39m {\n\u001b[1;32m     12\u001b[0m         \u001b[39m'\u001b[39m\u001b[39mclass_name\u001b[39m\u001b[39m'\u001b[39m: model\u001b[39m.\u001b[39m\u001b[39m__class__\u001b[39m\u001b[39m.\u001b[39m\u001b[39m__name__\u001b[39m,\n\u001b[1;32m     13\u001b[0m         \u001b[39m'\u001b[39m\u001b[39mconfig\u001b[39m\u001b[39m'\u001b[39m: model\u001b[39m.\u001b[39mget_config(),\n\u001b[1;32m     14\u001b[0m     }\n\u001b[0;32m---> 15\u001b[0m     clone \u001b[39m=\u001b[39m model_from_config(config, custom_objects\u001b[39m=\u001b[39;49mcustom_objects)\n\u001b[1;32m     16\u001b[0m     clone\u001b[39m.\u001b[39mset_weights(model\u001b[39m.\u001b[39mget_weights())\n\u001b[1;32m     17\u001b[0m     \u001b[39mreturn\u001b[39;00m clone\n",
      "File \u001b[0;32m~/.pyenv/versions/3.11.5/envs/rl/lib/python3.11/site-packages/keras/src/saving/legacy/model_config.py:66\u001b[0m, in \u001b[0;36mmodel_from_config\u001b[0;34m(config, custom_objects)\u001b[0m\n\u001b[1;32m     63\u001b[0m     layers\u001b[39m.\u001b[39mserialization\u001b[39m.\u001b[39mpopulate_deserializable_objects()\n\u001b[1;32m     64\u001b[0m     MODULE_OBJECTS\u001b[39m.\u001b[39mALL_OBJECTS \u001b[39m=\u001b[39m layers\u001b[39m.\u001b[39mserialization\u001b[39m.\u001b[39mLOCAL\u001b[39m.\u001b[39mALL_OBJECTS\n\u001b[0;32m---> 66\u001b[0m \u001b[39mreturn\u001b[39;00m serialization\u001b[39m.\u001b[39;49mdeserialize_keras_object(\n\u001b[1;32m     67\u001b[0m     config,\n\u001b[1;32m     68\u001b[0m     module_objects\u001b[39m=\u001b[39;49mMODULE_OBJECTS\u001b[39m.\u001b[39;49mALL_OBJECTS,\n\u001b[1;32m     69\u001b[0m     custom_objects\u001b[39m=\u001b[39;49mcustom_objects,\n\u001b[1;32m     70\u001b[0m     printable_module_name\u001b[39m=\u001b[39;49m\u001b[39m\"\u001b[39;49m\u001b[39mlayer\u001b[39;49m\u001b[39m\"\u001b[39;49m,\n\u001b[1;32m     71\u001b[0m )\n",
      "File \u001b[0;32m~/.pyenv/versions/3.11.5/envs/rl/lib/python3.11/site-packages/keras/src/saving/legacy/serialization.py:497\u001b[0m, in \u001b[0;36mdeserialize_keras_object\u001b[0;34m(identifier, module_objects, custom_objects, printable_module_name)\u001b[0m\n\u001b[1;32m    495\u001b[0m \u001b[39mif\u001b[39;00m \u001b[39m\"\u001b[39m\u001b[39mcustom_objects\u001b[39m\u001b[39m\"\u001b[39m \u001b[39min\u001b[39;00m arg_spec\u001b[39m.\u001b[39margs:\n\u001b[1;32m    496\u001b[0m     tlco \u001b[39m=\u001b[39m object_registration\u001b[39m.\u001b[39m_THREAD_LOCAL_CUSTOM_OBJECTS\u001b[39m.\u001b[39m\u001b[39m__dict__\u001b[39m\n\u001b[0;32m--> 497\u001b[0m     deserialized_obj \u001b[39m=\u001b[39m \u001b[39mcls\u001b[39;49m\u001b[39m.\u001b[39;49mfrom_config(\n\u001b[1;32m    498\u001b[0m         cls_config,\n\u001b[1;32m    499\u001b[0m         custom_objects\u001b[39m=\u001b[39;49m{\n\u001b[1;32m    500\u001b[0m             \u001b[39m*\u001b[39;49m\u001b[39m*\u001b[39;49mobject_registration\u001b[39m.\u001b[39;49m_GLOBAL_CUSTOM_OBJECTS,\n\u001b[1;32m    501\u001b[0m             \u001b[39m*\u001b[39;49m\u001b[39m*\u001b[39;49mtlco,\n\u001b[1;32m    502\u001b[0m             \u001b[39m*\u001b[39;49m\u001b[39m*\u001b[39;49mcustom_objects,\n\u001b[1;32m    503\u001b[0m         },\n\u001b[1;32m    504\u001b[0m     )\n\u001b[1;32m    505\u001b[0m \u001b[39melse\u001b[39;00m:\n\u001b[1;32m    506\u001b[0m     \u001b[39mwith\u001b[39;00m object_registration\u001b[39m.\u001b[39mCustomObjectScope(custom_objects):\n",
      "File \u001b[0;32m~/.pyenv/versions/3.11.5/envs/rl/lib/python3.11/site-packages/keras/src/engine/training.py:3306\u001b[0m, in \u001b[0;36mModel.from_config\u001b[0;34m(cls, config, custom_objects)\u001b[0m\n\u001b[1;32m   3298\u001b[0m revivable_as_functional \u001b[39m=\u001b[39m (\n\u001b[1;32m   3299\u001b[0m     \u001b[39mcls\u001b[39m \u001b[39min\u001b[39;00m {functional\u001b[39m.\u001b[39mFunctional, Model}\n\u001b[1;32m   3300\u001b[0m     \u001b[39mor\u001b[39;00m argspec\u001b[39m.\u001b[39margs[\u001b[39m1\u001b[39m:] \u001b[39m==\u001b[39m functional_init_args\n\u001b[1;32m   3301\u001b[0m     \u001b[39mor\u001b[39;00m (argspec\u001b[39m.\u001b[39mvarargs \u001b[39m==\u001b[39m \u001b[39m\"\u001b[39m\u001b[39margs\u001b[39m\u001b[39m\"\u001b[39m \u001b[39mand\u001b[39;00m argspec\u001b[39m.\u001b[39mvarkw \u001b[39m==\u001b[39m \u001b[39m\"\u001b[39m\u001b[39mkwargs\u001b[39m\u001b[39m\"\u001b[39m)\n\u001b[1;32m   3302\u001b[0m )\n\u001b[1;32m   3303\u001b[0m \u001b[39mif\u001b[39;00m is_functional_config \u001b[39mand\u001b[39;00m revivable_as_functional:\n\u001b[1;32m   3304\u001b[0m     \u001b[39m# Revive Functional model\u001b[39;00m\n\u001b[1;32m   3305\u001b[0m     \u001b[39m# (but not Functional subclasses with a custom __init__)\u001b[39;00m\n\u001b[0;32m-> 3306\u001b[0m     inputs, outputs, layers \u001b[39m=\u001b[39m functional\u001b[39m.\u001b[39;49mreconstruct_from_config(\n\u001b[1;32m   3307\u001b[0m         config, custom_objects\n\u001b[1;32m   3308\u001b[0m     )\n\u001b[1;32m   3309\u001b[0m     model \u001b[39m=\u001b[39m \u001b[39mcls\u001b[39m(\n\u001b[1;32m   3310\u001b[0m         inputs\u001b[39m=\u001b[39minputs, outputs\u001b[39m=\u001b[39moutputs, name\u001b[39m=\u001b[39mconfig\u001b[39m.\u001b[39mget(\u001b[39m\"\u001b[39m\u001b[39mname\u001b[39m\u001b[39m\"\u001b[39m)\n\u001b[1;32m   3311\u001b[0m     )\n\u001b[1;32m   3312\u001b[0m     functional\u001b[39m.\u001b[39mconnect_ancillary_layers(model, layers)\n",
      "File \u001b[0;32m~/.pyenv/versions/3.11.5/envs/rl/lib/python3.11/site-packages/keras/src/engine/functional.py:1493\u001b[0m, in \u001b[0;36mreconstruct_from_config\u001b[0;34m(config, custom_objects, created_layers)\u001b[0m\n\u001b[1;32m   1491\u001b[0m \u001b[39m# First, we create all layers and enqueue nodes to be processed\u001b[39;00m\n\u001b[1;32m   1492\u001b[0m \u001b[39mfor\u001b[39;00m layer_data \u001b[39min\u001b[39;00m config[\u001b[39m\"\u001b[39m\u001b[39mlayers\u001b[39m\u001b[39m\"\u001b[39m]:\n\u001b[0;32m-> 1493\u001b[0m     process_layer(layer_data)\n\u001b[1;32m   1494\u001b[0m \u001b[39m# Then we process nodes in order of layer depth.\u001b[39;00m\n\u001b[1;32m   1495\u001b[0m \u001b[39m# Nodes that cannot yet be processed (if the inbound node\u001b[39;00m\n\u001b[1;32m   1496\u001b[0m \u001b[39m# does not yet exist) are re-enqueued, and the process\u001b[39;00m\n\u001b[1;32m   1497\u001b[0m \u001b[39m# is repeated until all nodes are processed.\u001b[39;00m\n\u001b[1;32m   1498\u001b[0m \u001b[39mwhile\u001b[39;00m unprocessed_nodes:\n",
      "File \u001b[0;32m~/.pyenv/versions/3.11.5/envs/rl/lib/python3.11/site-packages/keras/src/engine/functional.py:1474\u001b[0m, in \u001b[0;36mreconstruct_from_config.<locals>.process_layer\u001b[0;34m(layer_data)\u001b[0m\n\u001b[1;32m   1470\u001b[0m \u001b[39melse\u001b[39;00m:\n\u001b[1;32m   1471\u001b[0m     \u001b[39m# Instantiate layer.\u001b[39;00m\n\u001b[1;32m   1472\u001b[0m     \u001b[39mfrom\u001b[39;00m \u001b[39mkeras\u001b[39;00m\u001b[39m.\u001b[39;00m\u001b[39msrc\u001b[39;00m\u001b[39m.\u001b[39;00m\u001b[39mlayers\u001b[39;00m \u001b[39mimport\u001b[39;00m deserialize \u001b[39mas\u001b[39;00m deserialize_layer\n\u001b[0;32m-> 1474\u001b[0m     layer \u001b[39m=\u001b[39m deserialize_layer(layer_data, custom_objects\u001b[39m=\u001b[39;49mcustom_objects)\n\u001b[1;32m   1475\u001b[0m     created_layers[layer_name] \u001b[39m=\u001b[39m layer\n\u001b[1;32m   1477\u001b[0m node_count_by_layer[layer] \u001b[39m=\u001b[39m \u001b[39mint\u001b[39m(_should_skip_first_node(layer))\n",
      "File \u001b[0;32m~/.pyenv/versions/3.11.5/envs/rl/lib/python3.11/site-packages/keras/src/layers/serialization.py:276\u001b[0m, in \u001b[0;36mdeserialize\u001b[0;34m(config, custom_objects, use_legacy_format)\u001b[0m\n\u001b[1;32m    268\u001b[0m \u001b[39mif\u001b[39;00m use_legacy_format:\n\u001b[1;32m    269\u001b[0m     \u001b[39mreturn\u001b[39;00m legacy_serialization\u001b[39m.\u001b[39mdeserialize_keras_object(\n\u001b[1;32m    270\u001b[0m         config,\n\u001b[1;32m    271\u001b[0m         module_objects\u001b[39m=\u001b[39mLOCAL\u001b[39m.\u001b[39mALL_OBJECTS,\n\u001b[1;32m    272\u001b[0m         custom_objects\u001b[39m=\u001b[39mcustom_objects,\n\u001b[1;32m    273\u001b[0m         printable_module_name\u001b[39m=\u001b[39m\u001b[39m\"\u001b[39m\u001b[39mlayer\u001b[39m\u001b[39m\"\u001b[39m,\n\u001b[1;32m    274\u001b[0m     )\n\u001b[0;32m--> 276\u001b[0m \u001b[39mreturn\u001b[39;00m serialization_lib\u001b[39m.\u001b[39;49mdeserialize_keras_object(\n\u001b[1;32m    277\u001b[0m     config,\n\u001b[1;32m    278\u001b[0m     module_objects\u001b[39m=\u001b[39;49mLOCAL\u001b[39m.\u001b[39;49mALL_OBJECTS,\n\u001b[1;32m    279\u001b[0m     custom_objects\u001b[39m=\u001b[39;49mcustom_objects,\n\u001b[1;32m    280\u001b[0m     printable_module_name\u001b[39m=\u001b[39;49m\u001b[39m\"\u001b[39;49m\u001b[39mlayer\u001b[39;49m\u001b[39m\"\u001b[39;49m,\n\u001b[1;32m    281\u001b[0m )\n",
      "File \u001b[0;32m~/.pyenv/versions/3.11.5/envs/rl/lib/python3.11/site-packages/keras/src/saving/serialization_lib.py:609\u001b[0m, in \u001b[0;36mdeserialize_keras_object\u001b[0;34m(config, custom_objects, safe_mode, **kwargs)\u001b[0m\n\u001b[1;32m    602\u001b[0m         \u001b[39mif\u001b[39;00m \u001b[39misinstance\u001b[39m(module_objects[config], types\u001b[39m.\u001b[39mFunctionType):\n\u001b[1;32m    603\u001b[0m             \u001b[39mreturn\u001b[39;00m deserialize_keras_object(\n\u001b[1;32m    604\u001b[0m                 serialize_with_public_fn(\n\u001b[1;32m    605\u001b[0m                     module_objects[config], config, fn_module_name\n\u001b[1;32m    606\u001b[0m                 ),\n\u001b[1;32m    607\u001b[0m                 custom_objects\u001b[39m=\u001b[39mcustom_objects,\n\u001b[1;32m    608\u001b[0m             )\n\u001b[0;32m--> 609\u001b[0m         \u001b[39mreturn\u001b[39;00m deserialize_keras_object(\n\u001b[1;32m    610\u001b[0m             serialize_with_public_class(\n\u001b[1;32m    611\u001b[0m                 module_objects[config], inner_config\u001b[39m=\u001b[39;49minner_config\n\u001b[1;32m    612\u001b[0m             ),\n\u001b[1;32m    613\u001b[0m             custom_objects\u001b[39m=\u001b[39;49mcustom_objects,\n\u001b[1;32m    614\u001b[0m         )\n\u001b[1;32m    616\u001b[0m \u001b[39mif\u001b[39;00m \u001b[39misinstance\u001b[39m(config, PLAIN_TYPES):\n\u001b[1;32m    617\u001b[0m     \u001b[39mreturn\u001b[39;00m config\n",
      "File \u001b[0;32m~/.pyenv/versions/3.11.5/envs/rl/lib/python3.11/site-packages/keras/src/saving/serialization_lib.py:728\u001b[0m, in \u001b[0;36mdeserialize_keras_object\u001b[0;34m(config, custom_objects, safe_mode, **kwargs)\u001b[0m\n\u001b[1;32m    726\u001b[0m safe_mode_scope \u001b[39m=\u001b[39m SafeModeScope(safe_mode)\n\u001b[1;32m    727\u001b[0m \u001b[39mwith\u001b[39;00m custom_obj_scope, safe_mode_scope:\n\u001b[0;32m--> 728\u001b[0m     instance \u001b[39m=\u001b[39m \u001b[39mcls\u001b[39;49m\u001b[39m.\u001b[39;49mfrom_config(inner_config)\n\u001b[1;32m    729\u001b[0m     build_config \u001b[39m=\u001b[39m config\u001b[39m.\u001b[39mget(\u001b[39m\"\u001b[39m\u001b[39mbuild_config\u001b[39m\u001b[39m\"\u001b[39m, \u001b[39mNone\u001b[39;00m)\n\u001b[1;32m    730\u001b[0m     \u001b[39mif\u001b[39;00m build_config:\n",
      "File \u001b[0;32m~/.pyenv/versions/3.11.5/envs/rl/lib/python3.11/site-packages/keras/src/layers/core/lambda_layer.py:327\u001b[0m, in \u001b[0;36mLambda.from_config\u001b[0;34m(cls, config, custom_objects)\u001b[0m\n\u001b[1;32m    324\u001b[0m \u001b[39m@classmethod\u001b[39m\n\u001b[1;32m    325\u001b[0m \u001b[39mdef\u001b[39;00m \u001b[39mfrom_config\u001b[39m(\u001b[39mcls\u001b[39m, config, custom_objects\u001b[39m=\u001b[39m\u001b[39mNone\u001b[39;00m):\n\u001b[1;32m    326\u001b[0m     config \u001b[39m=\u001b[39m config\u001b[39m.\u001b[39mcopy()\n\u001b[0;32m--> 327\u001b[0m     function \u001b[39m=\u001b[39m \u001b[39mcls\u001b[39;49m\u001b[39m.\u001b[39;49m_parse_function_from_config(\n\u001b[1;32m    328\u001b[0m         config, custom_objects, \u001b[39m\"\u001b[39;49m\u001b[39mfunction\u001b[39;49m\u001b[39m\"\u001b[39;49m, \u001b[39m\"\u001b[39;49m\u001b[39mmodule\u001b[39;49m\u001b[39m\"\u001b[39;49m, \u001b[39m\"\u001b[39;49m\u001b[39mfunction_type\u001b[39;49m\u001b[39m\"\u001b[39;49m\n\u001b[1;32m    329\u001b[0m     )\n\u001b[1;32m    331\u001b[0m     output_shape \u001b[39m=\u001b[39m \u001b[39mcls\u001b[39m\u001b[39m.\u001b[39m_parse_function_from_config(\n\u001b[1;32m    332\u001b[0m         config,\n\u001b[1;32m    333\u001b[0m         custom_objects,\n\u001b[0;32m   (...)\u001b[0m\n\u001b[1;32m    336\u001b[0m         \u001b[39m\"\u001b[39m\u001b[39moutput_shape_type\u001b[39m\u001b[39m\"\u001b[39m,\n\u001b[1;32m    337\u001b[0m     )\n\u001b[1;32m    338\u001b[0m     \u001b[39mif\u001b[39;00m \u001b[39m\"\u001b[39m\u001b[39mmask\u001b[39m\u001b[39m\"\u001b[39m \u001b[39min\u001b[39;00m config:\n",
      "File \u001b[0;32m~/.pyenv/versions/3.11.5/envs/rl/lib/python3.11/site-packages/keras/src/layers/core/lambda_layer.py:394\u001b[0m, in \u001b[0;36mLambda._parse_function_from_config\u001b[0;34m(cls, config, custom_objects, func_attr_name, module_attr_name, func_type_attr_name)\u001b[0m\n\u001b[1;32m    392\u001b[0m \u001b[39melif\u001b[39;00m function_type \u001b[39m==\u001b[39m \u001b[39m\"\u001b[39m\u001b[39mlambda\u001b[39m\u001b[39m\"\u001b[39m:\n\u001b[1;32m    393\u001b[0m     \u001b[39mif\u001b[39;00m serialization_lib\u001b[39m.\u001b[39min_safe_mode():\n\u001b[0;32m--> 394\u001b[0m         \u001b[39mraise\u001b[39;00m \u001b[39mValueError\u001b[39;00m(\n\u001b[1;32m    395\u001b[0m             \u001b[39m\"\u001b[39m\u001b[39mRequested the deserialization of a Lambda layer with a \u001b[39m\u001b[39m\"\u001b[39m\n\u001b[1;32m    396\u001b[0m             \u001b[39m\"\u001b[39m\u001b[39mPython `lambda` inside it. \u001b[39m\u001b[39m\"\u001b[39m\n\u001b[1;32m    397\u001b[0m             \u001b[39m\"\u001b[39m\u001b[39mThis carries a potential risk of arbitrary code execution \u001b[39m\u001b[39m\"\u001b[39m\n\u001b[1;32m    398\u001b[0m             \u001b[39m\"\u001b[39m\u001b[39mand thus it is disallowed by default. If you trust the \u001b[39m\u001b[39m\"\u001b[39m\n\u001b[1;32m    399\u001b[0m             \u001b[39m\"\u001b[39m\u001b[39msource of the saved model, you can pass `safe_mode=False` \u001b[39m\u001b[39m\"\u001b[39m\n\u001b[1;32m    400\u001b[0m             \u001b[39m\"\u001b[39m\u001b[39mto the loading function in order to allow \u001b[39m\u001b[39m\"\u001b[39m\n\u001b[1;32m    401\u001b[0m             \u001b[39m\"\u001b[39m\u001b[39mLambda layer loading.\u001b[39m\u001b[39m\"\u001b[39m\n\u001b[1;32m    402\u001b[0m         )\n\u001b[1;32m    403\u001b[0m     \u001b[39m# /!\\ Unsafe deserialization from bytecode! Danger! /!\\\u001b[39;00m\n\u001b[1;32m    404\u001b[0m     function \u001b[39m=\u001b[39m generic_utils\u001b[39m.\u001b[39mfunc_load(\n\u001b[1;32m    405\u001b[0m         config[func_attr_name], globs\u001b[39m=\u001b[39mglobs\n\u001b[1;32m    406\u001b[0m     )\n",
      "\u001b[0;31mValueError\u001b[0m: Requested the deserialization of a Lambda layer with a Python `lambda` inside it. This carries a potential risk of arbitrary code execution and thus it is disallowed by default. If you trust the source of the saved model, you can pass `safe_mode=False` to the loading function in order to allow Lambda layer loading."
     ]
    }
   ],
   "source": [
    "dqn = build_agent(model, actions)\n",
    "dqn.compile(optimizer=Adam(learning_rate=1e-4))"
   ]
  },
  {
   "cell_type": "code",
   "execution_count": null,
   "metadata": {},
   "outputs": [],
   "source": []
  },
  {
   "cell_type": "code",
   "execution_count": null,
   "metadata": {},
   "outputs": [],
   "source": []
  }
 ],
 "metadata": {
  "kernelspec": {
   "display_name": "rl",
   "language": "python",
   "name": "python3"
  },
  "language_info": {
   "codemirror_mode": {
    "name": "ipython",
    "version": 3
   },
   "file_extension": ".py",
   "mimetype": "text/x-python",
   "name": "python",
   "nbconvert_exporter": "python",
   "pygments_lexer": "ipython3",
   "version": "3.11.5"
  }
 },
 "nbformat": 4,
 "nbformat_minor": 2
}
